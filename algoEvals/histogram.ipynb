{
 "cells": [
  {
   "cell_type": "code",
   "execution_count": 1,
   "metadata": {},
   "outputs": [],
   "source": [
    "# Copyright (c) 2019 ETH Zurich, Lukas Cavigelli, Georg Rutishauser, Luca Benini"
   ]
  },
  {
   "cell_type": "code",
   "execution_count": 1,
   "metadata": {},
   "outputs": [],
   "source": [
    "import numpy as np\n",
    "%matplotlib inline\n",
    "import matplotlib.pyplot as plt\n",
    "plt.rc('axes', axisbelow=True)\n",
    "\n",
    "from dataCollect import getModel, getFMs\n",
    "from analysisTools import Analyzer"
   ]
  },
  {
   "cell_type": "code",
   "execution_count": 2,
   "metadata": {},
   "outputs": [],
   "source": [
    "#instantiate dataset loader and pre-trained model\n",
    "training = True\n",
    "\n",
    "epoch = None\n",
    "# modelName = 'resnet34'\n",
    "# modelName = 'squeezenet'\n",
    "modelName = 'alexnet'\n",
    "# modelName = 'vgg16'\n",
    "# modelName = 'mobilenet2'\n",
    "# modelName, epoch = 'alexnet-cust', 54\n",
    "# modelName, epoch = 'mobilenetV2-cust', 200\n",
    "\n",
    "model, loss_func = getModel(modelName, epoch=epoch)"
   ]
  },
  {
   "cell_type": "code",
   "execution_count": 3,
   "metadata": {},
   "outputs": [],
   "source": [
    "# gather feature maps\n",
    "model.eval()\n",
    "analyzer = Analyzer(quantMethod='fixed16', compressor=None)\n",
    "outputsReLU, _, _, gradsReLU = getFMs(model, loss_func, \n",
    "                                      training=training, computeGrads=True,\n",
    "                                      numBatches=1, batchSize=10)#250)"
   ]
  },
  {
   "cell_type": "code",
   "execution_count": 4,
   "metadata": {},
   "outputs": [
    {
     "data": {
      "image/png": "[encoded data removed]",
      "text/plain": [
       "<Figure size 504x165.6 with 4 Axes>"
      ]
     },
     "metadata": {
      "needs_background": "light"
     },
     "output_type": "display_data"
    }
   ],
   "source": [
    "#histogram \n",
    "outputLayerIdxs = np.linspace(0, len(gradsReLU)-1, 4).round().astype(np.int)\n",
    "useDiffs = [False]*len(outputLayerIdxs)\n",
    "#alexnet\n",
    "# outputLayerIdxs = [0,2,4,6]\n",
    "# useDiffs = [False]*len(outputLayerIdxs)\n",
    "#squeezeNet\n",
    "# outputLayerIdxs = [1, 13, 25]\n",
    "# useDiffs = [False]*3\n",
    "nonZeroOnly = False # select whether to exclude zero values\n",
    "_, axarr = plt.subplots(ncols=len(outputLayerIdxs), sharey=True, figsize=(7,2.3))\n",
    "plt.subplots_adjust(wspace=0.08)\n",
    "for idx, ud, ax in zip(outputLayerIdxs, useDiffs, axarr):\n",
    "  ax.set_title('Layer %d%s' % (idx+1,', diffs' if ud else ''))\n",
    "#   histtmp = outputs[idx].view(-1).numpy()\n",
    "  histtmp = gradsReLU[idx].view(-1).numpy()\n",
    "  if nonZeroOnly:\n",
    "    histtmp = histtmp[histtmp.nonzero()]\n",
    "  if ud:\n",
    "    histtmp = histtmp[1:] - histtmp[:-1]\n",
    "    bins = np.linspace(-1,1,81)\n",
    "  else:\n",
    "    bins = np.linspace(0,1,81)\n",
    "  ax.hist(histtmp, bins=bins, log=True)\n",
    "  ax.grid(True)\n",
    "axarr[0].set_ylabel('count')\n",
    "\n",
    "plt.savefig('figs/histogram-%s.pdf' % modelName, bbox_inches='tight', pad_inches=0.0)"
   ]
  },
  {
   "cell_type": "code",
   "execution_count": 5,
   "metadata": {},
   "outputs": [
    {
     "data": {
      "image/png": "[encoded data removed]",
      "text/plain": [
       "<Figure size 432x216 with 8 Axes>"
      ]
     },
     "metadata": {
      "needs_background": "light"
     },
     "output_type": "display_data"
    }
   ],
   "source": [
    "#histogram \n",
    "layerIdxs =np.linspace(0, len(outputsReLU)-1, 4).round().astype(np.int)\n",
    "fig, axarrs = plt.subplots(ncols=len(layerIdxs), nrows=2, figsize=(6,3), \n",
    "                          gridspec_kw={'wspace': 0.1, 'hspace': 0.1}, \n",
    "                          sharey=True, sharex=True, squeeze=True)\n",
    "\n",
    "for idxOut, (tensor, name) in enumerate(zip([outputsReLU, gradsReLU], ['output', 'gradient'])):\n",
    "    axarr = [axarrs[idxOut][i] for i in range(len(layerIdxs))]\n",
    "    \n",
    "    useDiffs = [False]*len(layerIdxs)\n",
    "    nonZeroOnly = False \n",
    "    plt.subplots_adjust(wspace=0.08)\n",
    "    for idx, ud, ax in zip(layerIdxs, useDiffs, axarr):\n",
    "        plt.sca(ax)\n",
    "        if idxOut == 0:\n",
    "            plt.title('Layer %d%s' % (idx+1,', diffs' if ud else ''))\n",
    "        histtmp = tensor[idx].view(-1).numpy()\n",
    "        if nonZeroOnly:\n",
    "            histtmp = histtmp[histtmp.nonzero()]\n",
    "        if ud:\n",
    "            histtmp = histtmp[1:] - histtmp[:-1]\n",
    "            bins = np.linspace(-1,1,81)\n",
    "        else:\n",
    "            bins = np.linspace(0,1,81)\n",
    "        plt.hist(histtmp, bins=bins, log=True)\n",
    "        plt.grid(True)\n",
    "        if idx == 0:\n",
    "            plt.ylabel(name)\n",
    "        if idxOut == 1:\n",
    "            plt.xticks(ticks=[0,0.5,1], labels=['0','0.5','1'])\n",
    "\n",
    "plt.savefig('figs/histogram-%s-joint.pdf' % (modelName), bbox_inches='tight', pad_inches=0.0)"
   ]
  }
 ],
 "metadata": {
  "kernelspec": {
   "display_name": "Python [conda env:conda-env]",
   "language": "python",
   "name": "conda-env-conda-env-py"
  },
  "language_info": {
   "codemirror_mode": {
    "name": "ipython",
    "version": 3
   },
   "file_extension": ".py",
   "mimetype": "text/x-python",
   "name": "python",
   "nbconvert_exporter": "python",
   "pygments_lexer": "ipython3",
   "version": "3.7.3"
  }
 },
 "nbformat": 4,
 "nbformat_minor": 2
}
