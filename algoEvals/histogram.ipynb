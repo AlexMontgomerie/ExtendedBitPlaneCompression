{
 "cells": [
  {
   "cell_type": "code",
   "execution_count": 1,
   "metadata": {},
   "outputs": [],
   "source": [
    "# Copyright (c) 2019 ETH Zurich, Lukas Cavigelli, Georg Rutishauser, Luca Benini"
   ]
  },
  {
   "cell_type": "code",
   "execution_count": 1,
   "metadata": {},
   "outputs": [],
   "source": [
    "import numpy as np\n",
    "%matplotlib inline\n",
    "import matplotlib.pyplot as plt\n",
    "plt.rc('axes', axisbelow=True)\n",
    "\n",
    "from dataCollect import getModel, getFMs\n",
    "from analysisTools import Analyzer"
   ]
  },
  {
   "cell_type": "code",
   "execution_count": 2,
   "metadata": {},
   "outputs": [
    {
     "ename": "ModuleNotFoundError",
     "evalue": "No module named 'quantlab'",
     "output_type": "error",
     "traceback": [
      "\u001b[0;31m---------------------------------------------------------------------------\u001b[0m",
      "\u001b[0;31mModuleNotFoundError\u001b[0m                       Traceback (most recent call last)",
      "\u001b[0;32m<ipython-input-2-3184eae74047>\u001b[0m in \u001b[0;36m<module>\u001b[0;34m\u001b[0m\n\u001b[1;32m     11\u001b[0m \u001b[0;31m# modelName, epoch = 'mobilenetV2-cust', 200\u001b[0m\u001b[0;34m\u001b[0m\u001b[0;34m\u001b[0m\u001b[0;34m\u001b[0m\u001b[0m\n\u001b[1;32m     12\u001b[0m \u001b[0;34m\u001b[0m\u001b[0m\n\u001b[0;32m---> 13\u001b[0;31m \u001b[0mmodel\u001b[0m\u001b[0;34m,\u001b[0m \u001b[0mloss_func\u001b[0m \u001b[0;34m=\u001b[0m \u001b[0mgetModel\u001b[0m\u001b[0;34m(\u001b[0m\u001b[0mmodelName\u001b[0m\u001b[0;34m,\u001b[0m \u001b[0mepoch\u001b[0m\u001b[0;34m=\u001b[0m\u001b[0mepoch\u001b[0m\u001b[0;34m)\u001b[0m\u001b[0;34m\u001b[0m\u001b[0;34m\u001b[0m\u001b[0m\n\u001b[0m",
      "\u001b[0;32m/scratch/lukasc/lukasc-bpcForCNN-github.git/algoEvals/dataCollect.py\u001b[0m in \u001b[0;36mgetModel\u001b[0;34m(modelName, epoch, returnPath)\u001b[0m\n\u001b[1;32m     15\u001b[0m \u001b[0;32mdef\u001b[0m \u001b[0mgetModel\u001b[0m\u001b[0;34m(\u001b[0m\u001b[0mmodelName\u001b[0m\u001b[0;34m,\u001b[0m \u001b[0mepoch\u001b[0m\u001b[0;34m=\u001b[0m\u001b[0;32mNone\u001b[0m\u001b[0;34m,\u001b[0m \u001b[0mreturnPath\u001b[0m\u001b[0;34m=\u001b[0m\u001b[0;32mFalse\u001b[0m\u001b[0;34m)\u001b[0m\u001b[0;34m:\u001b[0m\u001b[0;34m\u001b[0m\u001b[0;34m\u001b[0m\u001b[0m\n\u001b[1;32m     16\u001b[0m     \u001b[0;32mimport\u001b[0m \u001b[0mtorchvision\u001b[0m \u001b[0;32mas\u001b[0m \u001b[0mtv\u001b[0m\u001b[0;34m\u001b[0m\u001b[0;34m\u001b[0m\u001b[0m\n\u001b[0;32m---> 17\u001b[0;31m     \u001b[0;32mimport\u001b[0m \u001b[0mquantlab\u001b[0m\u001b[0;34m.\u001b[0m\u001b[0mImageNet\u001b[0m\u001b[0;34m.\u001b[0m\u001b[0mtopology\u001b[0m \u001b[0;32mas\u001b[0m \u001b[0mtopo\u001b[0m\u001b[0;34m\u001b[0m\u001b[0;34m\u001b[0m\u001b[0m\n\u001b[0m\u001b[1;32m     18\u001b[0m \u001b[0;34m\u001b[0m\u001b[0m\n\u001b[1;32m     19\u001b[0m     \u001b[0mloss_func\u001b[0m \u001b[0;34m=\u001b[0m  \u001b[0mtorch\u001b[0m\u001b[0;34m.\u001b[0m\u001b[0mnn\u001b[0m\u001b[0;34m.\u001b[0m\u001b[0mCrossEntropyLoss\u001b[0m\u001b[0;34m(\u001b[0m\u001b[0;34m)\u001b[0m\u001b[0;34m\u001b[0m\u001b[0;34m\u001b[0m\u001b[0m\n",
      "\u001b[0;31mModuleNotFoundError\u001b[0m: No module named 'quantlab'"
     ]
    }
   ],
   "source": [
    "#instantiate dataset loader and pre-trained model\n",
    "training = True\n",
    "\n",
    "epoch = None\n",
    "# modelName = 'resnet34'\n",
    "# modelName = 'squeezenet'\n",
    "modelName = 'alexnet'\n",
    "# modelName = 'vgg16'\n",
    "# modelName = 'mobilenet2'\n",
    "# modelName, epoch = 'alexnet-cust', 54\n",
    "# modelName, epoch = 'mobilenetV2-cust', 200\n",
    "\n",
    "model, loss_func = getModel(modelName, epoch=epoch)"
   ]
  },
  {
   "cell_type": "code",
   "execution_count": null,
   "metadata": {},
   "outputs": [],
   "source": [
    "# gather feature maps\n",
    "model.eval()\n",
    "analyzer = Analyzer(quantMethod='fixed16', compressor=None)\n",
    "outputsReLU, _, _, gradsReLU = getFMs(model, loss_func, \n",
    "                                      training=training, computeGrads=True,\n",
    "                                      numBatches=1, batchSize=10)#250)"
   ]
  },
  {
   "cell_type": "code",
   "execution_count": null,
   "metadata": {},
   "outputs": [],
   "source": [
    "#histogram \n",
    "outputLayerIdxs = np.linspace(0, len(gradsReLU)-1, 4).round().astype(np.int)\n",
    "useDiffs = [False]*len(outputLayerIdxs)\n",
    "#alexnet\n",
    "# outputLayerIdxs = [0,2,4,6]\n",
    "# useDiffs = [False]*len(outputLayerIdxs)\n",
    "#squeezeNet\n",
    "# outputLayerIdxs = [1, 13, 25]\n",
    "# useDiffs = [False]*3\n",
    "nonZeroOnly = False # select whether to exclude zero values\n",
    "_, axarr = plt.subplots(ncols=len(outputLayerIdxs), sharey=True, figsize=(7,2.3))\n",
    "plt.subplots_adjust(wspace=0.08)\n",
    "for idx, ud, ax in zip(outputLayerIdxs, useDiffs, axarr):\n",
    "  ax.set_title('Layer %d%s' % (idx+1,', diffs' if ud else ''))\n",
    "#   histtmp = outputs[idx].view(-1).numpy()\n",
    "  histtmp = gradsReLU[idx].view(-1).numpy()\n",
    "  if nonZeroOnly:\n",
    "    histtmp = histtmp[histtmp.nonzero()]\n",
    "  if ud:\n",
    "    histtmp = histtmp[1:] - histtmp[:-1]\n",
    "    bins = np.linspace(-1,1,81)\n",
    "  else:\n",
    "    bins = np.linspace(0,1,81)\n",
    "  ax.hist(histtmp, bins=bins, log=True)\n",
    "  ax.grid(True)\n",
    "axarr[0].set_ylabel('count')\n",
    "\n",
    "plt.savefig('figs/histogram-%s.pdf' % modelName, bbox_inches='tight', pad_inches=0.0)"
   ]
  },
  {
   "cell_type": "code",
   "execution_count": 3,
   "metadata": {},
   "outputs": [
    {
     "ename": "NameError",
     "evalue": "name 'outputsReLU' is not defined",
     "output_type": "error",
     "traceback": [
      "\u001b[0;31m---------------------------------------------------------------------------\u001b[0m",
      "\u001b[0;31mNameError\u001b[0m                                 Traceback (most recent call last)",
      "\u001b[0;32m<ipython-input-3-6eaf0db82f52>\u001b[0m in \u001b[0;36m<module>\u001b[0;34m\u001b[0m\n\u001b[1;32m      1\u001b[0m \u001b[0;31m#histogram\u001b[0m\u001b[0;34m\u001b[0m\u001b[0;34m\u001b[0m\u001b[0;34m\u001b[0m\u001b[0m\n\u001b[0;32m----> 2\u001b[0;31m \u001b[0mlayerIdxs\u001b[0m \u001b[0;34m=\u001b[0m\u001b[0mnp\u001b[0m\u001b[0;34m.\u001b[0m\u001b[0mlinspace\u001b[0m\u001b[0;34m(\u001b[0m\u001b[0;36m0\u001b[0m\u001b[0;34m,\u001b[0m \u001b[0mlen\u001b[0m\u001b[0;34m(\u001b[0m\u001b[0moutputsReLU\u001b[0m\u001b[0;34m)\u001b[0m\u001b[0;34m-\u001b[0m\u001b[0;36m1\u001b[0m\u001b[0;34m,\u001b[0m \u001b[0;36m4\u001b[0m\u001b[0;34m)\u001b[0m\u001b[0;34m.\u001b[0m\u001b[0mround\u001b[0m\u001b[0;34m(\u001b[0m\u001b[0;34m)\u001b[0m\u001b[0;34m.\u001b[0m\u001b[0mastype\u001b[0m\u001b[0;34m(\u001b[0m\u001b[0mnp\u001b[0m\u001b[0;34m.\u001b[0m\u001b[0mint\u001b[0m\u001b[0;34m)\u001b[0m\u001b[0;34m\u001b[0m\u001b[0;34m\u001b[0m\u001b[0m\n\u001b[0m\u001b[1;32m      3\u001b[0m fig, axarrs = plt.subplots(ncols=len(layerIdxs), nrows=2, figsize=(6,3), \n\u001b[1;32m      4\u001b[0m                           \u001b[0mgridspec_kw\u001b[0m\u001b[0;34m=\u001b[0m\u001b[0;34m{\u001b[0m\u001b[0;34m'wspace'\u001b[0m\u001b[0;34m:\u001b[0m \u001b[0;36m0.1\u001b[0m\u001b[0;34m,\u001b[0m \u001b[0;34m'hspace'\u001b[0m\u001b[0;34m:\u001b[0m \u001b[0;36m0.1\u001b[0m\u001b[0;34m}\u001b[0m\u001b[0;34m,\u001b[0m\u001b[0;34m\u001b[0m\u001b[0;34m\u001b[0m\u001b[0m\n\u001b[1;32m      5\u001b[0m                           sharey=True, sharex=True, squeeze=True)\n",
      "\u001b[0;31mNameError\u001b[0m: name 'outputsReLU' is not defined"
     ]
    }
   ],
   "source": [
    "#histogram \n",
    "layerIdxs =np.linspace(0, len(outputsReLU)-1, 4).round().astype(np.int)\n",
    "fig, axarrs = plt.subplots(ncols=len(layerIdxs), nrows=2, figsize=(6,3), \n",
    "                          gridspec_kw={'wspace': 0.1, 'hspace': 0.1}, \n",
    "                          sharey=True, sharex=True, squeeze=True)\n",
    "\n",
    "for idxOut, (tensor, name) in enumerate(zip([outputsReLU, gradsReLU], ['output', 'gradient'])):\n",
    "    axarr = [axarrs[idxOut][i] for i in range(len(layerIdxs))]\n",
    "    \n",
    "    useDiffs = [False]*len(layerIdxs)\n",
    "    nonZeroOnly = False \n",
    "    plt.subplots_adjust(wspace=0.08)\n",
    "    for idx, ud, ax in zip(layerIdxs, useDiffs, axarr):\n",
    "        plt.sca(ax)\n",
    "        if idxOut == 0:\n",
    "            plt.title('Layer %d%s' % (idx+1,', diffs' if ud else ''))\n",
    "        histtmp = tensor[idx].view(-1).numpy()\n",
    "        if nonZeroOnly:\n",
    "            histtmp = histtmp[histtmp.nonzero()]\n",
    "        if ud:\n",
    "            histtmp = histtmp[1:] - histtmp[:-1]\n",
    "            bins = np.linspace(-1,1,81)\n",
    "        else:\n",
    "            bins = np.linspace(0,1,81)\n",
    "        plt.hist(histtmp, bins=bins, log=True)\n",
    "        plt.grid(True)\n",
    "        if idx == 0:\n",
    "            plt.ylabel(name)\n",
    "        if idxOut == 1:\n",
    "            plt.xticks(ticks=[0,0.5,1], labels=['0','0.5','1'])\n",
    "\n",
    "plt.savefig('figs/histogram-%s-joint.pdf' % (modelName), bbox_inches='tight', pad_inches=0.0)"
   ]
  },
  {
   "cell_type": "code",
   "execution_count": null,
   "metadata": {},
   "outputs": [],
   "source": []
  }
 ],
 "metadata": {
  "kernelspec": {
   "display_name": "Python [conda env:conda-env]",
   "language": "python",
   "name": "conda-env-conda-env-py"
  },
  "language_info": {
   "codemirror_mode": {
    "name": "ipython",
    "version": 3
   },
   "file_extension": ".py",
   "mimetype": "text/x-python",
   "name": "python",
   "nbconvert_exporter": "python",
   "pygments_lexer": "ipython3",
   "version": "3.7.3"
  }
 },
 "nbformat": 4,
 "nbformat_minor": 2
}
